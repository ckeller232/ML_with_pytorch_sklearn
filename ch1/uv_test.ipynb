{
 "cells": [
  {
   "cell_type": "code",
   "execution_count": 1,
   "id": "43e8d775",
   "metadata": {},
   "outputs": [],
   "source": [
    "def add_func (a:int, b:int) -> int:\n",
    "    print(a + b)"
   ]
  },
  {
   "cell_type": "code",
   "execution_count": 2,
   "id": "1d5adaa5",
   "metadata": {},
   "outputs": [
    {
     "name": "stdout",
     "output_type": "stream",
     "text": [
      "5\n"
     ]
    }
   ],
   "source": [
    "add_func(2,3)"
   ]
  }
 ],
 "metadata": {
  "kernelspec": {
   "display_name": "ml-with-pytorch-sklearn",
   "language": "python",
   "name": "python3"
  },
  "language_info": {
   "codemirror_mode": {
    "name": "ipython",
    "version": 3
   },
   "file_extension": ".py",
   "mimetype": "text/x-python",
   "name": "python",
   "nbconvert_exporter": "python",
   "pygments_lexer": "ipython3",
   "version": "3.10.9"
  }
 },
 "nbformat": 4,
 "nbformat_minor": 5
}
